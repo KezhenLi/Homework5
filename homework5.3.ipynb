{
  "nbformat": 4,
  "nbformat_minor": 0,
  "metadata": {
    "colab": {
      "name": "homework5.3.ipynb",
      "provenance": [],
      "authorship_tag": "ABX9TyNquuu4cPZs8pk8fZR6RhyI",
      "include_colab_link": true
    },
    "kernelspec": {
      "name": "python3",
      "display_name": "Python 3"
    }
  },
  "cells": [
    {
      "cell_type": "markdown",
      "metadata": {
        "id": "view-in-github",
        "colab_type": "text"
      },
      "source": [
        "<a href=\"https://colab.research.google.com/github/KezhenLi/Homework5/blob/main/homework5.3.ipynb\" target=\"_parent\"><img src=\"https://colab.research.google.com/assets/colab-badge.svg\" alt=\"Open In Colab\"/></a>"
      ]
    },
    {
      "cell_type": "code",
      "metadata": {
        "id": "s4iVp8js3TLX"
      },
      "source": [
        "from numpy.fft import rfft, irfft\n",
        "from numpy import floor, linspace, array, zeros, copy\n",
        "from matplotlib.pylab import plot, show"
      ],
      "execution_count": 8,
      "outputs": []
    },
    {
      "cell_type": "code",
      "metadata": {
        "colab": {
          "base_uri": "https://localhost:8080/",
          "height": 319
        },
        "id": "VC_ZB_Er4KaC",
        "outputId": "ba7c0685-557c-4482-9ae9-4bbb8ab7ceb6"
      },
      "source": [
        "def square_wave(t):\n",
        "    if floor(2 * t) % 2 == 0:\n",
        "        return 1\n",
        "    else:\n",
        "        return -1\n",
        "\n",
        "N = 1000\n",
        "sample = linspace(0, 1, N)\n",
        "squarewave = array(list(map(square_wave, sample)), float)\n",
        "squarewaveFourier = rfft(squarewave)\n",
        "first10coefficients = zeros(len(squarewaveFourier), float)\n",
        "first10coefficients[0 : 9] = copy(squarewaveFourier[0 : 9])\n",
        "compressedsquarewave = irfft(first10coefficients)\n",
        "plot(sample, squarewave)\n",
        "plot(sample, compressedsquarewave)\n",
        "show()\n",
        "# Aritifacts and wiggles come from high frequency modes.\n"
      ],
      "execution_count": 9,
      "outputs": [
        {
          "output_type": "stream",
          "text": [
            "/usr/local/lib/python3.7/dist-packages/ipykernel_launcher.py:12: ComplexWarning: Casting complex values to real discards the imaginary part\n",
            "  if sys.path[0] == '':\n"
          ],
          "name": "stderr"
        },
        {
          "output_type": "display_data",
          "data": {
            "image/png": "[encoded data removed]",
            "text/plain": [
              "<Figure size 432x288 with 1 Axes>"
            ]
          },
          "metadata": {
            "tags": [],
            "needs_background": "light"
          }
        }
      ]
    }
  ]
}